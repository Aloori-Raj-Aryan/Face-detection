{
 "cells": [
  {
   "cell_type": "code",
   "execution_count": 2,
   "id": "bearing-thomas",
   "metadata": {},
   "outputs": [],
   "source": [
    "import cv2"
   ]
  },
  {
   "cell_type": "code",
   "execution_count": 3,
   "id": "proof-swedish",
   "metadata": {},
   "outputs": [],
   "source": [
    "def draw_found_faces(detected, image, color: tuple):\n",
    "    for (x, y, width, height) in detected:\n",
    "        cv2.rectangle(\n",
    "            image,\n",
    "            (x, y),\n",
    "            (x + width, y + height),\n",
    "            color,\n",
    "            thickness=2\n",
    "        )"
   ]
  },
  {
   "cell_type": "code",
   "execution_count": 4,
   "id": "talented-pension",
   "metadata": {},
   "outputs": [],
   "source": [
    "# Capturing the Video Stream\n",
    "video_capture = cv2.VideoCapture(0)\n",
    "\n",
    "# Creating the cascade objects\n",
    "face_cascade = cv2.CascadeClassifier(cv2.data.haarcascades + \"haarcascade_frontalface_default.xml\")\n",
    "eye_cascade = cv2.CascadeClassifier(cv2.data.haarcascades + \"haarcascade_eye_tree_eyeglasses.xml\")"
   ]
  },
  {
   "cell_type": "code",
   "execution_count": 5,
   "id": "pursuant-haven",
   "metadata": {},
   "outputs": [],
   "source": [
    "while True:\n",
    "    # Get individual frame\n",
    "    _, frame = video_capture.read()\n",
    "    # Covert the frame to grayscale\n",
    "    grayscale_image = cv2.cvtColor(frame, cv2.COLOR_BGR2GRAY)\n",
    "    \n",
    "\t# Detect all the faces in that frame\n",
    "    detected_faces = face_cascade.detectMultiScale(image=grayscale_image, scaleFactor=1.3, minNeighbors=4)\n",
    "    detected_eyes = eye_cascade.detectMultiScale(image=grayscale_image, scaleFactor=1.3, minNeighbors=4)\n",
    "    draw_found_faces(detected_faces, frame, (0, 0, 255))\n",
    "    draw_found_faces(detected_eyes, frame, (0, 255, 0))\n",
    "\n",
    "    # Display the updated frame as a video stream\n",
    "    cv2.imshow('Webcam Face Detection', frame)\n",
    "\n",
    "    # Press the ESC key to exit the loop\n",
    "    # 27 is the code for the ESC key or space bar\n",
    "    if (cv2.waitKey(1) == 27 or cv2.waitKey(1) == 32):\n",
    "        break\n",
    "# Releasing the webcam resource\n",
    "video_capture.release()\n",
    "\n",
    "# Destroy the window that was showing the video stream\n",
    "cv2.destroyAllWindows()"
   ]
  }
 ],
 "metadata": {
  "kernelspec": {
   "display_name": "Python 3",
   "language": "python",
   "name": "python3"
  },
  "language_info": {
   "codemirror_mode": {
    "name": "ipython",
    "version": 3
   },
   "file_extension": ".py",
   "mimetype": "text/x-python",
   "name": "python",
   "nbconvert_exporter": "python",
   "pygments_lexer": "ipython3",
   "version": "3.7.9"
  }
 },
 "nbformat": 4,
 "nbformat_minor": 5
}
